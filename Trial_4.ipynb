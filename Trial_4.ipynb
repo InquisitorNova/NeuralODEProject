{
 "cells": [
  {
   "cell_type": "code",
   "execution_count": 1,
   "metadata": {},
   "outputs": [],
   "source": [
    "import matplotlib.pyplot as plt \n",
    "import seaborn as sns\n",
    "import numpy as np \n",
    "import scipy as sp"
   ]
  },
  {
   "cell_type": "code",
   "execution_count": 2,
   "metadata": {},
   "outputs": [],
   "source": [
    "def periodic_boundary(index, num_grid_points):\n",
    "        if index < num_grid_points/2:\n",
    "            return 2*index\n",
    "        else:\n",
    "            return 2*(num_grid_points-index)-1"
   ]
  },
  {
   "cell_type": "code",
   "execution_count": 4,
   "metadata": {},
   "outputs": [],
   "source": [
    "def index_periodic_boundary_forward_converter(index_i, index_j, num_i_grid_points, num_j_grid_points):\n",
    "        index_i * num_j_grid_points + index_j"
   ]
  },
  {
   "cell_type": "code",
   "execution_count": 5,
   "metadata": {},
   "outputs": [],
   "source": [
    "def index_periodic_boundary_backward_converter(Periodic_L_index, Periodic_L_indices,num_j_grid_points):\n",
    "        index_i, index_j = Periodic_L_indices[Periodic_L_index]\n",
    "        L_index = index_i * num_j_grid_points + index_j\n",
    "        return L_index"
   ]
  },
  {
   "cell_type": "code",
   "execution_count": 6,
   "metadata": {},
   "outputs": [],
   "source": [
    "num_i_grid_points = \n",
    "num_j_grid_points = 50\n",
    "Final_Time = 10.0\n",
    "Num_Timesteps = 50\n",
    "num_grid_points = num_i_grid_points * num_j_grid_points"
   ]
  },
  {
   "cell_type": "code",
   "execution_count": 7,
   "metadata": {},
   "outputs": [
    {
     "name": "stdout",
     "output_type": "stream",
     "text": [
      "0.12566370614359174 0.12566370614359174 0.2 50\n",
      "50 50 10.0 50\n"
     ]
    }
   ],
   "source": [
    "dTheta = (2*np.pi)/(num_i_grid_points)\n",
    "dZeta = (2*np.pi)/(num_j_grid_points)\n",
    "dTime = (Final_Time)/(Num_Timesteps)\n",
    "print(dTheta, dZeta, dTime, Num_Timesteps)\n",
    "print(num_i_grid_points, num_j_grid_points, Final_Time, Num_Timesteps)"
   ]
  },
  {
   "cell_type": "code",
   "execution_count": 8,
   "metadata": {},
   "outputs": [
    {
     "data": {
      "text/plain": [
       "[<matplotlib.lines.Line2D at 0x1b2729b8cd0>]"
      ]
     },
     "execution_count": 8,
     "metadata": {},
     "output_type": "execute_result"
    },
    {
     "data": {
      "image/png": "[encoded data removed]",
      "text/plain": [
       "<Figure size 640x480 with 1 Axes>"
      ]
     },
     "metadata": {},
     "output_type": "display_data"
    }
   ],
   "source": [
    "Q_11 = 100 * np.ones(shape = (num_grid_points,))\n",
    "Q_22 = 100 * np.ones(shape = (num_grid_points,))\n",
    "Q_12 = 100 * np.ones(shape = (num_grid_points,))\n",
    "Resvoir = 1e2 * np.ones(shape  = (num_grid_points,))\n",
    "Source  = 1e5 * np.ones(shape = (num_grid_points,)) + 1e4*np.array([np.sin(x)*np.cosh(x/2) for x in np.linspace(0,2*np.pi, num_grid_points)])\n",
    "plt.plot(Source)"
   ]
  },
  {
   "cell_type": "code",
   "execution_count": 9,
   "metadata": {},
   "outputs": [],
   "source": [
    "Temperatures_Solution = np.zeros((num_grid_points,))\n",
    "Temperature_Grid = []\n",
    "phi = np.zeros((num_grid_points,))\n",
    "b = np.zeros((num_grid_points,))"
   ]
  },
  {
   "cell_type": "code",
   "execution_count": 10,
   "metadata": {},
   "outputs": [
    {
     "data": {
      "text/plain": [
       "(2500, 2)"
      ]
     },
     "execution_count": 10,
     "metadata": {},
     "output_type": "execute_result"
    }
   ],
   "source": [
    "Periodic_L_indices = np.zeros((num_grid_points, 2), dtype = np.int64)\n",
    "index_a = 0\n",
    "while index_a <= num_i_grid_points -1:\n",
    "    index_b = 0\n",
    "    while index_b <= num_j_grid_points -1:\n",
    "        Periodic_L_indices[index_periodic_boundary_forward_converter(index_a,index_b, num_i_grid_points, num_j_grid_points)] = (int(index_a),int(index_b))\n",
    "        index_b +=1\n",
    "    index_a +=1\n",
    "Periodic_L_indices.shape"
   ]
  },
  {
   "cell_type": "code",
   "execution_count": null,
   "metadata": {},
   "outputs": [],
   "source": [
    "nbands_below = 3*num_i_grid_points - 1\n",
    "nbands_above = nbands_below\n",
    "def MatrixCreator(num_i_grid_points, num_j_grid_points, dt, \\\n",
    "                     di, dj, Q_11, Q_22, Q_12, Resvoir, ncols, nbands_above):\n",
    "        \n",
    "        def get_index(row, column, nbands_upper, n_columns):\n",
    "            band_row = nbands_upper + row - column \n",
    "            if row < 0 or column < 0 or row >= n_columns or column >= n_columns:\n",
    "                raise IndexError(\"Indexes out of bounds in get_index: {} {}\".format(row, column))\n",
    "            return band_row, column\n",
    "    \n",
    "        def set_value(band_matrix,row, column, value, nbands_upper):\n",
    "        # Calculate the correct row in the band_matrix\n",
    "            band_row = nbands_upper + row - column\n",
    "            if band_row < 0 or band_row >= band_matrix.shape[0]:\n",
    "                return IndexError(\"Indexes out of bounds in get_value: {} {}\".format(row, column)) # Ignore values that are outside the band width\n",
    "            return band_row, column, value\n",
    "\n",
    "        def get_value(band_matrix, row, column, nbands_upper):\n",
    "            band_row = nbands_upper + row - column\n",
    "            if band_row < 0 or band_row >= band_matrix.shape[0]:\n",
    "                raise IndexError(\"Indexes out of bounds in get_value: {} {}\".format(row, column))\n",
    "            return band_matrix[band_row, column]\n",
    "\n",
    "        index_plus_i = 0\n",
    "        index_minus_i = 0\n",
    "        index_plus_j = 0\n",
    "        index_minus_j = 0\n",
    "        index_i = 0\n",
    "        \n",
    "        coefficient_matrix = np.zeros((ncols, ncols))\n",
    "        nbrows = nbands_below + nbands_above + 1\n",
    "        ncols = num_grid_points\n",
    "        banded_coefficient_matrix = np.zeros((nbrows, ncols))\n",
    "        while index_i < num_i_grid_points:\n",
    "\n",
    "            if index_i ==0:\n",
    "                \n",
    "\n",
    "            if index_i == num_i_grid_points:\n",
    "                index_plus_i = 0\n",
    "            else:\n",
    "                index_plus_i = index_i + 1\n",
    "        \n",
    "            index_j = 0\n",
    "            while index_j < num_j_grid_points:\n",
    "            \n",
    "                if index_j ==0:\n",
    "                    index_minus_j = num_j_grid_points - 1\n",
    "                else:\n",
    "                    index_minus_j = index_j -1\n",
    "\n",
    "                if index_j == num_j_grid_points:\n",
    "                    index_plus_j = 0\n",
    "                else:\n",
    "                    index_plus_j = index_j + 1\n",
    "\n",
    "                index_current = index_periodic_boundary_forward_converter(index_i, index_j, num_i_grid_points, num_j_grid_points)\n",
    "\n",
    "                coefficient_matrix[index_current, index_periodic_boundary_forward_converter(index_plus_i, index_j, num_i_grid_points, num_j_grid_points)] = (-Q_11[index_periodic_boundary_forward_converter(index_i, index_j, num_i_grid_points, num_j_grid_points)] * (dt))/(4*di**2)\n",
    "                band_row, column, value = set_value(banded_coefficient_matrix, index_current, index_periodic_boundary_forward_converter(index_plus_i, index_j, num_i_grid_points, num_j_grid_points), coefficient_matrix[index_current, index_periodic_boundary_forward_converter(index_plus_i, index_j, num_i_grid_points, num_j_grid_points)], nbands_above)\n",
    "                banded_coefficient_matrix[band_row, column] = value\n",
    "\n",
    "                coefficient_matrix[index_current, index_periodic_boundary_forward_converter(index_i, index_plus_j, num_i_grid_points, num_j_grid_points)] = (-Q_22[index_periodic_boundary_forward_converter(index_i, index_j, num_i_grid_points, num_j_grid_points)] * (dt))/(4*dj**2)\n",
    "                band_row, column, value = set_value(banded_coefficient_matrix, index_current, index_periodic_boundary_forward_converter(index_i, index_plus_j, num_i_grid_points, num_j_grid_points), coefficient_matrix[index_current, index_periodic_boundary_forward_converter(index_i, index_plus_j, num_i_grid_points, num_j_grid_points)], nbands_above)\n",
    "                banded_coefficient_matrix[band_row, column] = value\n",
    "\n",
    "                coefficient_matrix[index_current, index_periodic_boundary_forward_converter(index_i, index_j, num_i_grid_points, num_j_grid_points)] = (Q_11[index_periodic_boundary_forward_converter(index_i, index_j, num_i_grid_points, num_j_grid_points)] *(dt)/(2*di**2) + Q_22[index_periodic_boundary_forward_converter(index_i, index_j, num_i_grid_points, num_j_grid_points)] * (dt)/(2*dj**2) + Resvoir[index_periodic_boundary_forward_converter(index_i, index_j, num_i_grid_points, num_j_grid_points)]*(dt/2) + 1)\n",
    "                band_row, column, value = set_value(banded_coefficient_matrix, index_current, index_periodic_boundary_forward_converter(index_i, index_j, num_i_grid_points, num_j_grid_points), coefficient_matrix[index_current, index_periodic_boundary_forward_converter(index_i, index_j, num_i_grid_points, num_j_grid_points)], nbands_above)\n",
    "                banded_coefficient_matrix[band_row, column] = value\n",
    "\n",
    "                coefficient_matrix[index_current, index_periodic_boundary_forward_converter(index_minus_i, index_j, num_i_grid_points, num_j_grid_points)] = (-Q_11[index_periodic_boundary_forward_converter(index_i, index_j, num_i_grid_points, num_j_grid_points)] * (dt))/(4*di**2)\n",
    "                band_row, column, value = set_value(banded_coefficient_matrix, index_current, index_periodic_boundary_forward_converter(index_minus_i, index_j, num_i_grid_points, num_j_grid_points), coefficient_matrix[index_current, index_periodic_boundary_forward_converter(index_minus_i, index_j, num_i_grid_points, num_j_grid_points)], nbands_above)\n",
    "                banded_coefficient_matrix[band_row, column] = value\n",
    "\n",
    "                coefficient_matrix[index_current, index_periodic_boundary_forward_converter(index_i, index_minus_j, num_i_grid_points, num_j_grid_points)] = (-Q_22[index_periodic_boundary_forward_converter(index_i, index_j, num_i_grid_points, num_j_grid_points)] * (dt))/(4*dj**2)\n",
    "                band_row, column, value = set_value(banded_coefficient_matrix, index_current, index_periodic_boundary_forward_converter(index_i, index_minus_j, num_i_grid_points, num_j_grid_points), coefficient_matrix[index_current, index_periodic_boundary_forward_converter(index_i, index_minus_j, num_i_grid_points, num_j_grid_points)], nbands_above)\n",
    "                banded_coefficient_matrix[band_row, column] = value\n",
    "\n",
    "                index_j +=1\n",
    "            index_i +=1\n",
    "\n",
    "        return coefficient_matrix, banded_coefficient_matrix"
   ]
  }
 ],
 "metadata": {
  "kernelspec": {
   "display_name": "TenseNeuralNets",
   "language": "python",
   "name": "python3"
  },
  "language_info": {
   "codemirror_mode": {
    "name": "ipython",
    "version": 3
   },
   "file_extension": ".py",
   "mimetype": "text/x-python",
   "name": "python",
   "nbconvert_exporter": "python",
   "pygments_lexer": "ipython3",
   "version": "3.11.7"
  }
 },
 "nbformat": 4,
 "nbformat_minor": 2
}
